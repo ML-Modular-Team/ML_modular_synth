{
 "cells": [
  {
   "cell_type": "code",
   "execution_count": 1,
   "metadata": {
    "collapsed": true
   },
   "outputs": [],
   "source": [
    "import os\n",
    "\n",
    "import torch\n",
    "import torch.nn as nn\n",
    "import torch.nn.functional as F\n",
    "import  copy\n",
    "import numpy as np"
   ]
  },
  {
   "cell_type": "code",
   "execution_count": 2,
   "outputs": [],
   "source": [
    "latent_dims = 2\n",
    "num_epochs = 20\n",
    "batch_size = 128\n",
    "capacity = 64\n",
    "learning_rate = 1e-3\n",
    "#variational_beta = 0.05\n",
    "variational_beta = 0.01\n",
    "use_gpu = True\n",
    "\n",
    "\n",
    "\n",
    "import torchvision.transforms as transforms\n",
    "from torch.utils.data import DataLoader\n",
    "from torchvision import datasets, transforms\n",
    "from torch import optim\n",
    "\n",
    "img_transform = transforms.Compose([\n",
    "    transforms.ToTensor()\n",
    "])\n",
    "mnist_trainset = torch.utils.data.DataLoader(\n",
    "    datasets.MNIST('../data', train=True, download=True,\n",
    "                   transform=transforms.ToTensor()),\n",
    "                   batch_size=batch_size, shuffle=True)\n",
    "\n",
    "mnist_testset = test_loader = torch.utils.data.DataLoader(\n",
    "    datasets.MNIST('../data', train=False, transform=transforms.ToTensor()),\n",
    "                  batch_size=batch_size, shuffle=True)"
   ],
   "metadata": {
    "collapsed": false,
    "pycharm": {
     "name": "#%%\n"
    }
   }
  },
  {
   "cell_type": "code",
   "execution_count": 3,
   "outputs": [
    {
     "name": "stdout",
     "output_type": "stream",
     "text": [
      "Number of parameters: 308357\n"
     ]
    },
    {
     "name": "stderr",
     "output_type": "stream",
     "text": [
      "/home/erik/.local/lib/python3.8/site-packages/torch/cuda/__init__.py:52: UserWarning: CUDA initialization: Found no NVIDIA driver on your system. Please check that you have an NVIDIA GPU and installed a driver from http://www.nvidia.com/Download/index.aspx (Triggered internally at  /pytorch/c10/cuda/CUDAFunctions.cpp:100.)\n",
      "  return torch._C._cuda_getDeviceCount() > 0\n"
     ]
    }
   ],
   "source": [
    "class Encoder(nn.Module):\n",
    "    def __init__(self):\n",
    "        super(Encoder, self).__init__()\n",
    "        c = capacity\n",
    "        self.conv1 = nn.Conv2d(in_channels=1, out_channels=c, kernel_size=4, stride=2, padding=1) # out: c x 14 x 14\n",
    "        self.conv2 = nn.Conv2d(in_channels=c, out_channels=c*2, kernel_size=4, stride=2, padding=1) # out: c x 7 x 7\n",
    "        self.fc_mu = nn.Linear(in_features=c*2*7*7, out_features=latent_dims)\n",
    "        self.fc_logvar = nn.Linear(in_features=c*2*7*7, out_features=latent_dims)\n",
    "\n",
    "    def forward(self, x):\n",
    "        x = F.relu(self.conv1(x))\n",
    "        x = F.relu(self.conv2(x))\n",
    "        x = x.view(x.size(0), -1) # flatten batch of multi-channel feature maps to a batch of feature vectors\n",
    "        x_mu = self.fc_mu(x)\n",
    "        x_logvar = self.fc_logvar(x)\n",
    "        return x_mu, x_logvar\n",
    "\n",
    "\n",
    "class Decoder(nn.Module):\n",
    "    def __init__(self):\n",
    "        super(Decoder, self).__init__()\n",
    "        c = capacity\n",
    "        self.fc = nn.Linear(in_features=latent_dims, out_features=c*2*7*7)\n",
    "        self.conv2 = nn.ConvTranspose2d(in_channels=c*2, out_channels=c, kernel_size=4, stride=2, padding=1)\n",
    "        self.conv1 = nn.ConvTranspose2d(in_channels=c, out_channels=1, kernel_size=4, stride=2, padding=1)\n",
    "\n",
    "    def forward(self, x):\n",
    "        x = self.fc(x)\n",
    "        x = x.view(x.size(0), capacity*2, 7, 7) # unflatten batch of feature vectors to a batch of multi-channel feature maps\n",
    "        x = F.relu(self.conv2(x))\n",
    "        x = torch.sigmoid(self.conv1(x)) # last layer before output is sigmoid, since we are using BCE as reconstruction loss\n",
    "        return x\n",
    "\n",
    "\n",
    "\n",
    "class VariationalAutoencoder(nn.Module):\n",
    "    def __init__(self):\n",
    "        super(VariationalAutoencoder, self).__init__()\n",
    "        self.encoder = Encoder()\n",
    "        self.decoder = Decoder()\n",
    "\n",
    "    def forward(self, x):\n",
    "        latent_mu, latent_logvar = self.encoder(x)\n",
    "        latent = self.latent_sample(latent_mu, latent_logvar)\n",
    "        x_recon = self.decoder(latent)\n",
    "        return x_recon, latent_mu, latent_logvar\n",
    "\n",
    "    def latent_sample(self, mu, logvar):\n",
    "        if self.training:\n",
    "            # the reparameterization trick\n",
    "            std = logvar.mul(0.5).exp_()\n",
    "            eps = torch.empty_like(std).normal_()\n",
    "            return eps.mul(std).add_(mu)\n",
    "        else:\n",
    "            return mu\n",
    "\n",
    "def vae_loss(recon_x, x, mu, logvar,beta):\n",
    "\n",
    "    recon_loss = F.binary_cross_entropy(recon_x.view(-1, 784), x.view(-1, 784), reduction='sum')\n",
    "    kldivergence = -0.5 * torch.sum(1 + logvar - mu.pow(2) - logvar.exp())\n",
    "\n",
    "    return recon_loss + variational_beta * kldivergence\n",
    "\n",
    "\n",
    "\n",
    "vae = VariationalAutoencoder()\n",
    "\n",
    "device = torch.device(\"cuda:0\" if use_gpu and torch.cuda.is_available() else \"cpu\")\n",
    "vae = vae.to(device)\n",
    "\n",
    "num_params = sum(p.numel() for p in vae.parameters() if p.requires_grad)\n",
    "print('Number of parameters: %d' % num_params)\n",
    "optimizer = optim.Adam(vae.parameters(), lr=7e-4)\n",
    "rewind_state_dict = copy.deepcopy(vae.state_dict())\n",
    "\n"
   ],
   "metadata": {
    "collapsed": false,
    "pycharm": {
     "name": "#%%\n"
    }
   }
  },
  {
   "cell_type": "markdown",
   "source": [
    "## Pruning"
   ],
   "metadata": {
    "collapsed": false,
    "pycharm": {
     "name": "#%% md\n"
    }
   }
  },
  {
   "cell_type": "code",
   "execution_count": 4,
   "outputs": [],
   "source": [
    "from pruning import PruningConv2D, PruningLinear, PruningTool\n",
    "\n",
    "#conv = nn.Conv2d(in_channels=4, out_channels=4, kernel_size=4, stride=2, padding=1)\n",
    "\n",
    "#pr = PruningConv2D(conv)\n",
    "#pr.set_mask_locally(0.3)\n",
    "#for idx, channel in enumerate(conv.weight):\n",
    "#    pr(conv,None)\n",
    "\n",
    "#pr_stat = PruningTool()\n",
    "#pr_stat.stats_pruning(conv)"
   ],
   "metadata": {
    "collapsed": false,
    "pycharm": {
     "name": "#%%\n"
    }
   }
  },
  {
   "cell_type": "markdown",
   "source": [
    "## Training :"
   ],
   "metadata": {
    "collapsed": false
   }
  },
  {
   "cell_type": "code",
   "execution_count": null,
   "outputs": [
    {
     "name": "stdout",
     "output_type": "stream",
     "text": [
      "Sparsity in Layer conv1: 0.00%\n",
      "Sparsity in Layer conv2: 0.00%\n",
      "Linear(in_features=6272, out_features=2, bias=True)\n",
      "Sparsity in Layer fc_mu: 0.00%\n",
      "Linear(in_features=6272, out_features=2, bias=True)\n",
      "Sparsity in Layer fc_logvar: 0.00%\n",
      "Global Sparsity : 0.00%\n",
      "====> Epoch: 0 Average loss: 180.6326\n",
      "====> Epoch: 1 Average loss: 162.4671\n",
      "====> Epoch: 2 Average loss: 158.3895\n",
      "====> Epoch: 3 Average loss: 154.8587\n"
     ]
    }
   ],
   "source": [
    "step = 0\n",
    "plt_loss = []\n",
    "prstat = PruningTool()\n",
    "first_training = True\n",
    "pruning_amount = np.linspace(0, 0.99,5)\n",
    "final_pa = pruning_amount[-1]\n",
    "\n",
    "number_epochs = 10\n",
    "\n",
    "list_epochs = list(range(number_epochs))\n",
    "list_global_sparsity = []\n",
    "lists_training_loss = []\n",
    "list_test_loss = []\n",
    "\n",
    "for pa in pruning_amount:\n",
    "    list_loss = []\n",
    "    # local pruning\n",
    "    for name,module in vae.named_modules():\n",
    "        if isinstance(module, torch.nn.Linear):\n",
    "            pr = PruningLinear(module)\n",
    "            pr.set_mask_locally(pa)\n",
    "            module.register_forward_pre_hook(pr)\n",
    "        if isinstance(module, torch.nn.Conv2d):\n",
    "            pr = PruningConv2D(module)\n",
    "            pr.set_mask_locally(pa)\n",
    "            module.register_forward_pre_hook(pr)\n",
    "\n",
    "    for name, param in vae.named_parameters():\n",
    "        param.data = rewind_state_dict[name].clone()\n",
    "\n",
    "    for epoch in list_epochs:\n",
    "\n",
    "        vae.train()\n",
    "        train_loss = 0\n",
    "        for batch_idx, (data, _) in enumerate(mnist_trainset):\n",
    "            data = data.to(device)\n",
    "            optimizer.zero_grad()\n",
    "            recon_batch, mu, logvar = vae(data)\n",
    "            beta = 1\n",
    "            loss = vae_loss(recon_batch, data, mu, logvar,beta)\n",
    "            loss.backward()\n",
    "            train_loss += loss.item()\n",
    "            optimizer.step()\n",
    "            step += 1\n",
    "\n",
    "            if  first_training and batch_idx == 500 :\n",
    "                rewind_state_dict = copy.deepcopy(vae.state_dict())\n",
    "                first_training = False\n",
    "                print('rewind state saved')\n",
    "        if epoch ==0 :\n",
    "            list_global_sparsity.append(prstat.stats_pruning(vae.encoder,verbose=False))\n",
    "        train_loss = train_loss / len(mnist_trainset.dataset)\n",
    "        list_loss.append(train_loss)\n",
    "        print('====> Epoch: {} Average loss: {:.4f}'.format(epoch, train_loss))\n",
    "\n",
    "    vae.eval()\n",
    "\n",
    "    test_loss_avg, num_batches = 0, 0\n",
    "    for image_batch, _ in mnist_testset:\n",
    "        with torch.no_grad():\n",
    "            image_batch = image_batch.to(device)\n",
    "        # vae reconstruction\n",
    "            image_batch_recon, latent_mu, latent_logvar = vae(image_batch)\n",
    "        # reconstruction error\n",
    "            loss = vae_loss(image_batch_recon, image_batch, latent_mu, latent_logvar,beta)\n",
    "            test_loss_avg += loss.item()\n",
    "            num_batches += 1\n",
    "\n",
    "    test_loss_avg /= len(mnist_testset.dataset)\n",
    "    print('average reconstruction error: %f' % (test_loss_avg))\n",
    "\n",
    "    list_test_loss.append(test_loss_avg)\n",
    "    _, _, _ = vae(data)\n",
    "    lists_training_loss.append(list_loss)"
   ],
   "metadata": {
    "collapsed": false,
    "pycharm": {
     "name": "#%%\n",
     "is_executing": true
    }
   }
  },
  {
   "cell_type": "code",
   "execution_count": null,
   "outputs": [],
   "source": [
    "import matplotlib.pyplot as plt\n",
    "from Visualizer import Visualizer\n",
    "\n",
    "v = Visualizer(list_global_sparsity, list_epochs, lists_training_loss, list_test_loss)\n",
    "\n",
    "a = v.show_training_loss_pruning()\n",
    "plt.show()\n",
    "b = v.show_test_loss()\n",
    "plt.show()"
   ],
   "metadata": {
    "collapsed": false,
    "pycharm": {
     "name": "#%%\n",
     "is_executing": true
    }
   }
  }
 ],
 "metadata": {
  "kernelspec": {
   "name": "pycharm-8fa7283d",
   "language": "python",
   "display_name": "PyCharm (ML_modular_synth)"
  },
  "language_info": {
   "codemirror_mode": {
    "name": "ipython",
    "version": 2
   },
   "file_extension": ".py",
   "mimetype": "text/x-python",
   "name": "python",
   "nbconvert_exporter": "python",
   "pygments_lexer": "ipython2",
   "version": "2.7.6"
  }
 },
 "nbformat": 4,
 "nbformat_minor": 0
}