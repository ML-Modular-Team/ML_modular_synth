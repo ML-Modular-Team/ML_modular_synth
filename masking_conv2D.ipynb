{
 "cells": [
  {
   "cell_type": "code",
   "execution_count": 8,
   "metadata": {
    "collapsed": true
   },
   "outputs": [],
   "source": [
    "import os\n",
    "\n",
    "import torch\n",
    "import torch.nn as nn\n",
    "import torch.nn.functional as F\n",
    "import  copy\n",
    "import numpy as np"
   ]
  },
  {
   "cell_type": "code",
   "execution_count": 9,
   "outputs": [],
   "source": [
    "latent_dims = 2\n",
    "num_epochs = 20\n",
    "batch_size = 128\n",
    "capacity = 64\n",
    "learning_rate = 1e-3\n",
    "#variational_beta = 0.05\n",
    "variational_beta = 0.01\n",
    "use_gpu = True\n",
    "\n",
    "\n",
    "\n",
    "import torchvision.transforms as transforms\n",
    "from torch.utils.data import DataLoader\n",
    "from torchvision import datasets, transforms\n",
    "from torch import optim\n",
    "\n",
    "img_transform = transforms.Compose([\n",
    "    transforms.ToTensor()\n",
    "])\n",
    "mnist_trainset = torch.utils.data.DataLoader(\n",
    "    datasets.MNIST('../data', train=True, download=True,\n",
    "                   transform=transforms.ToTensor()),\n",
    "                   batch_size=batch_size, shuffle=True)\n",
    "\n",
    "mnist_testset = test_loader = torch.utils.data.DataLoader(\n",
    "    datasets.MNIST('../data', train=False, transform=transforms.ToTensor()),\n",
    "                  batch_size=batch_size, shuffle=True)"
   ],
   "metadata": {
    "collapsed": false,
    "pycharm": {
     "name": "#%%\n"
    }
   }
  },
  {
   "cell_type": "code",
   "execution_count": 10,
   "outputs": [
    {
     "name": "stdout",
     "output_type": "stream",
     "text": [
      "Number of parameters: 308357\n"
     ]
    }
   ],
   "source": [
    "class Encoder(nn.Module):\n",
    "    def __init__(self):\n",
    "        super(Encoder, self).__init__()\n",
    "        c = capacity\n",
    "        self.conv1 = nn.Conv2d(in_channels=1, out_channels=c, kernel_size=4, stride=2, padding=1) # out: c x 14 x 14\n",
    "        self.conv2 = nn.Conv2d(in_channels=c, out_channels=c*2, kernel_size=4, stride=2, padding=1) # out: c x 7 x 7\n",
    "        self.fc_mu = nn.Linear(in_features=c*2*7*7, out_features=latent_dims)\n",
    "        self.fc_logvar = nn.Linear(in_features=c*2*7*7, out_features=latent_dims)\n",
    "\n",
    "    def forward(self, x):\n",
    "        x = F.relu(self.conv1(x))\n",
    "        x = F.relu(self.conv2(x))\n",
    "        x = x.view(x.size(0), -1) # flatten batch of multi-channel feature maps to a batch of feature vectors\n",
    "        x_mu = self.fc_mu(x)\n",
    "        x_logvar = self.fc_logvar(x)\n",
    "        return x_mu, x_logvar\n",
    "\n",
    "\n",
    "class Decoder(nn.Module):\n",
    "    def __init__(self):\n",
    "        super(Decoder, self).__init__()\n",
    "        c = capacity\n",
    "        self.fc = nn.Linear(in_features=latent_dims, out_features=c*2*7*7)\n",
    "        self.conv2 = nn.ConvTranspose2d(in_channels=c*2, out_channels=c, kernel_size=4, stride=2, padding=1)\n",
    "        self.conv1 = nn.ConvTranspose2d(in_channels=c, out_channels=1, kernel_size=4, stride=2, padding=1)\n",
    "\n",
    "    def forward(self, x):\n",
    "        x = self.fc(x)\n",
    "        x = x.view(x.size(0), capacity*2, 7, 7) # unflatten batch of feature vectors to a batch of multi-channel feature maps\n",
    "        x = F.relu(self.conv2(x))\n",
    "        x = torch.sigmoid(self.conv1(x)) # last layer before output is sigmoid, since we are using BCE as reconstruction loss\n",
    "        return x\n",
    "\n",
    "\n",
    "\n",
    "class VariationalAutoencoder(nn.Module):\n",
    "    def __init__(self):\n",
    "        super(VariationalAutoencoder, self).__init__()\n",
    "        self.encoder = Encoder()\n",
    "        self.decoder = Decoder()\n",
    "\n",
    "    def forward(self, x):\n",
    "        latent_mu, latent_logvar = self.encoder(x)\n",
    "        latent = self.latent_sample(latent_mu, latent_logvar)\n",
    "        x_recon = self.decoder(latent)\n",
    "        return x_recon, latent_mu, latent_logvar\n",
    "\n",
    "    def latent_sample(self, mu, logvar):\n",
    "        if self.training:\n",
    "            # the reparameterization trick\n",
    "            std = logvar.mul(0.5).exp_()\n",
    "            eps = torch.empty_like(std).normal_()\n",
    "            return eps.mul(std).add_(mu)\n",
    "        else:\n",
    "            return mu\n",
    "\n",
    "def vae_loss(recon_x, x, mu, logvar,beta):\n",
    "\n",
    "    recon_loss = F.binary_cross_entropy(recon_x.view(-1, 784), x.view(-1, 784), reduction='sum')\n",
    "    kldivergence = -0.5 * torch.sum(1 + logvar - mu.pow(2) - logvar.exp())\n",
    "\n",
    "    return recon_loss + variational_beta * kldivergence\n",
    "\n",
    "\n",
    "\n",
    "vae = VariationalAutoencoder()\n",
    "\n",
    "device = torch.device(\"cuda:0\" if use_gpu and torch.cuda.is_available() else \"cpu\")\n",
    "vae = vae.to(device)\n",
    "\n",
    "num_params = sum(p.numel() for p in vae.parameters() if p.requires_grad)\n",
    "print('Number of parameters: %d' % num_params)\n",
    "optimizer = optim.Adam(vae.parameters(), lr=7e-4)\n",
    "rewind_state_dict = copy.deepcopy(vae.state_dict())\n",
    "\n"
   ],
   "metadata": {
    "collapsed": false,
    "pycharm": {
     "name": "#%%\n"
    }
   }
  },
  {
   "cell_type": "markdown",
   "source": [
    "## Pruning"
   ],
   "metadata": {
    "collapsed": false,
    "pycharm": {
     "name": "#%% md\n"
    }
   }
  },
  {
   "cell_type": "code",
   "execution_count": 11,
   "outputs": [
    {
     "name": "stdout",
     "output_type": "stream",
     "text": [
      "Model :\n",
      "Sparsity in Layer : 25.00%\n",
      "Global Sparsity : 25.00%\n"
     ]
    }
   ],
   "source": [
    "from pruning import PruningConv2D, PruningLinear, PruningTool\n",
    "\n",
    "conv = nn.Conv2d(in_channels=4, out_channels=4, kernel_size=4, stride=2, padding=1)\n",
    "\n",
    "pr = PruningConv2D(conv)\n",
    "pr.set_mask_locally(0.3)\n",
    "for idx, channel in enumerate(conv.weight):\n",
    "    pr(conv,None)\n",
    "\n",
    "pr_stat = PruningTool()\n",
    "pr_stat.stats_pruning(conv)"
   ],
   "metadata": {
    "collapsed": false,
    "pycharm": {
     "name": "#%%\n"
    }
   }
  },
  {
   "cell_type": "markdown",
   "source": [
    "## Training :"
   ],
   "metadata": {
    "collapsed": false
   }
  },
  {
   "cell_type": "code",
   "execution_count": 12,
   "outputs": [
    {
     "name": "stdout",
     "output_type": "stream",
     "text": [
      "Sparsity in Layer encoder.conv1: 0.00%\n",
      "Sparsity in Layer encoder.conv2: 0.00%\n",
      "Linear(in_features=6272, out_features=2, bias=True)\n",
      "Sparsity in Layer encoder.fc_mu: 0.00%\n",
      "Linear(in_features=6272, out_features=2, bias=True)\n",
      "Sparsity in Layer encoder.fc_logvar: 0.00%\n",
      "Linear(in_features=2, out_features=6272, bias=True)\n",
      "Sparsity in Layer decoder.fc: 0.00%\n",
      "Global Sparsity : 0.00%\n",
      "====> Epoch: 0 Average loss: 187.1181\n",
      "====> Epoch: 1 Average loss: 166.8918\n",
      "====> Epoch: 2 Average loss: 161.2814\n",
      "====> Epoch: 3 Average loss: 158.0389\n",
      "====> Epoch: 4 Average loss: 156.0573\n",
      "====> Epoch: 5 Average loss: 154.4578\n",
      "====> Epoch: 6 Average loss: 152.9603\n",
      "====> Epoch: 7 Average loss: 151.2438\n",
      "====> Epoch: 8 Average loss: 149.7348\n",
      "====> Epoch: 9 Average loss: 148.4107\n",
      "Sparsity in Layer encoder.conv1: 0.00%\n",
      "Sparsity in Layer encoder.conv2: 0.00%\n",
      "Linear(in_features=6272, out_features=2, bias=True)\n",
      "Sparsity in Layer encoder.fc_mu: 0.01%\n",
      "Linear(in_features=6272, out_features=2, bias=True)\n",
      "Sparsity in Layer encoder.fc_logvar: 0.01%\n",
      "Linear(in_features=2, out_features=6272, bias=True)\n",
      "Sparsity in Layer decoder.fc: 0.01%\n",
      "Global Sparsity : 0.00%\n",
      "Sparsity in Layer encoder.conv1: 1.56%\n",
      "Sparsity in Layer encoder.conv2: 0.92%\n",
      "Linear(in_features=6272, out_features=2, bias=True)\n",
      "Sparsity in Layer encoder.fc_mu: 0.34%\n",
      "Linear(in_features=6272, out_features=2, bias=True)\n",
      "Sparsity in Layer encoder.fc_logvar: 0.30%\n",
      "Linear(in_features=2, out_features=6272, bias=True)\n",
      "Sparsity in Layer decoder.fc: 0.00%\n",
      "Global Sparsity : 0.76%\n",
      "====> Epoch: 0 Average loss: 186.0393\n",
      "====> Epoch: 1 Average loss: 166.5893\n",
      "====> Epoch: 2 Average loss: 161.4593\n",
      "====> Epoch: 3 Average loss: 156.9155\n",
      "====> Epoch: 4 Average loss: 153.2362\n",
      "====> Epoch: 5 Average loss: 151.0259\n",
      "====> Epoch: 6 Average loss: 149.3573\n",
      "====> Epoch: 7 Average loss: 148.1842\n",
      "====> Epoch: 8 Average loss: 147.3120\n",
      "====> Epoch: 9 Average loss: 146.6123\n",
      "Sparsity in Layer encoder.conv1: 4.69%\n",
      "Sparsity in Layer encoder.conv2: 4.69%\n",
      "Linear(in_features=6272, out_features=2, bias=True)\n",
      "Sparsity in Layer encoder.fc_mu: 5.21%\n",
      "Linear(in_features=6272, out_features=2, bias=True)\n",
      "Sparsity in Layer encoder.fc_logvar: 5.21%\n",
      "Linear(in_features=2, out_features=6272, bias=True)\n",
      "Sparsity in Layer decoder.fc: 5.21%\n",
      "Global Sparsity : 4.80%\n",
      "Sparsity in Layer encoder.conv1: 4.69%\n",
      "Sparsity in Layer encoder.conv2: 3.45%\n",
      "Linear(in_features=6272, out_features=2, bias=True)\n",
      "Sparsity in Layer encoder.fc_mu: 0.70%\n",
      "Linear(in_features=6272, out_features=2, bias=True)\n",
      "Sparsity in Layer encoder.fc_logvar: 0.80%\n",
      "Linear(in_features=2, out_features=6272, bias=True)\n",
      "Sparsity in Layer decoder.fc: 0.00%\n",
      "Global Sparsity : 2.81%\n",
      "====> Epoch: 0 Average loss: 186.6559\n",
      "====> Epoch: 1 Average loss: 165.9507\n",
      "====> Epoch: 2 Average loss: 161.5140\n",
      "====> Epoch: 3 Average loss: 158.1507\n",
      "====> Epoch: 4 Average loss: 155.3637\n",
      "====> Epoch: 5 Average loss: 153.4102\n",
      "====> Epoch: 6 Average loss: 151.7732\n",
      "====> Epoch: 7 Average loss: 150.5986\n",
      "====> Epoch: 8 Average loss: 149.6957\n"
     ]
    },
    {
     "ename": "KeyboardInterrupt",
     "evalue": "",
     "output_type": "error",
     "traceback": [
      "\u001B[0;31m---------------------------------------------------------------------------\u001B[0m",
      "\u001B[0;31mKeyboardInterrupt\u001B[0m                         Traceback (most recent call last)",
      "\u001B[0;32m<ipython-input-12-cc02eddbf86b>\u001B[0m in \u001B[0;36m<module>\u001B[0;34m\u001B[0m\n\u001B[1;32m     39\u001B[0m             \u001B[0mbeta\u001B[0m \u001B[0;34m=\u001B[0m \u001B[0;36m1\u001B[0m\u001B[0;34m\u001B[0m\u001B[0;34m\u001B[0m\u001B[0m\n\u001B[1;32m     40\u001B[0m             \u001B[0mloss\u001B[0m \u001B[0;34m=\u001B[0m \u001B[0mvae_loss\u001B[0m\u001B[0;34m(\u001B[0m\u001B[0mrecon_batch\u001B[0m\u001B[0;34m,\u001B[0m \u001B[0mdata\u001B[0m\u001B[0;34m,\u001B[0m \u001B[0mmu\u001B[0m\u001B[0;34m,\u001B[0m \u001B[0mlogvar\u001B[0m\u001B[0;34m,\u001B[0m\u001B[0mbeta\u001B[0m\u001B[0;34m)\u001B[0m\u001B[0;34m\u001B[0m\u001B[0;34m\u001B[0m\u001B[0m\n\u001B[0;32m---> 41\u001B[0;31m             \u001B[0mloss\u001B[0m\u001B[0;34m.\u001B[0m\u001B[0mbackward\u001B[0m\u001B[0;34m(\u001B[0m\u001B[0;34m)\u001B[0m\u001B[0;34m\u001B[0m\u001B[0;34m\u001B[0m\u001B[0m\n\u001B[0m\u001B[1;32m     42\u001B[0m             \u001B[0mtrain_loss\u001B[0m \u001B[0;34m+=\u001B[0m \u001B[0mloss\u001B[0m\u001B[0;34m.\u001B[0m\u001B[0mitem\u001B[0m\u001B[0;34m(\u001B[0m\u001B[0;34m)\u001B[0m\u001B[0;34m\u001B[0m\u001B[0;34m\u001B[0m\u001B[0m\n\u001B[1;32m     43\u001B[0m             \u001B[0moptimizer\u001B[0m\u001B[0;34m.\u001B[0m\u001B[0mstep\u001B[0m\u001B[0;34m(\u001B[0m\u001B[0;34m)\u001B[0m\u001B[0;34m\u001B[0m\u001B[0;34m\u001B[0m\u001B[0m\n",
      "\u001B[0;32m~/.local/lib/python3.8/site-packages/torch/tensor.py\u001B[0m in \u001B[0;36mbackward\u001B[0;34m(self, gradient, retain_graph, create_graph)\u001B[0m\n\u001B[1;32m    219\u001B[0m                 \u001B[0mretain_graph\u001B[0m\u001B[0;34m=\u001B[0m\u001B[0mretain_graph\u001B[0m\u001B[0;34m,\u001B[0m\u001B[0;34m\u001B[0m\u001B[0;34m\u001B[0m\u001B[0m\n\u001B[1;32m    220\u001B[0m                 create_graph=create_graph)\n\u001B[0;32m--> 221\u001B[0;31m         \u001B[0mtorch\u001B[0m\u001B[0;34m.\u001B[0m\u001B[0mautograd\u001B[0m\u001B[0;34m.\u001B[0m\u001B[0mbackward\u001B[0m\u001B[0;34m(\u001B[0m\u001B[0mself\u001B[0m\u001B[0;34m,\u001B[0m \u001B[0mgradient\u001B[0m\u001B[0;34m,\u001B[0m \u001B[0mretain_graph\u001B[0m\u001B[0;34m,\u001B[0m \u001B[0mcreate_graph\u001B[0m\u001B[0;34m)\u001B[0m\u001B[0;34m\u001B[0m\u001B[0;34m\u001B[0m\u001B[0m\n\u001B[0m\u001B[1;32m    222\u001B[0m \u001B[0;34m\u001B[0m\u001B[0m\n\u001B[1;32m    223\u001B[0m     \u001B[0;32mdef\u001B[0m \u001B[0mregister_hook\u001B[0m\u001B[0;34m(\u001B[0m\u001B[0mself\u001B[0m\u001B[0;34m,\u001B[0m \u001B[0mhook\u001B[0m\u001B[0;34m)\u001B[0m\u001B[0;34m:\u001B[0m\u001B[0;34m\u001B[0m\u001B[0;34m\u001B[0m\u001B[0m\n",
      "\u001B[0;32m~/.local/lib/python3.8/site-packages/torch/autograd/__init__.py\u001B[0m in \u001B[0;36mbackward\u001B[0;34m(tensors, grad_tensors, retain_graph, create_graph, grad_variables)\u001B[0m\n\u001B[1;32m    128\u001B[0m         \u001B[0mretain_graph\u001B[0m \u001B[0;34m=\u001B[0m \u001B[0mcreate_graph\u001B[0m\u001B[0;34m\u001B[0m\u001B[0;34m\u001B[0m\u001B[0m\n\u001B[1;32m    129\u001B[0m \u001B[0;34m\u001B[0m\u001B[0m\n\u001B[0;32m--> 130\u001B[0;31m     Variable._execution_engine.run_backward(\n\u001B[0m\u001B[1;32m    131\u001B[0m         \u001B[0mtensors\u001B[0m\u001B[0;34m,\u001B[0m \u001B[0mgrad_tensors_\u001B[0m\u001B[0;34m,\u001B[0m \u001B[0mretain_graph\u001B[0m\u001B[0;34m,\u001B[0m \u001B[0mcreate_graph\u001B[0m\u001B[0;34m,\u001B[0m\u001B[0;34m\u001B[0m\u001B[0;34m\u001B[0m\u001B[0m\n\u001B[1;32m    132\u001B[0m         allow_unreachable=True)  # allow_unreachable flag\n",
      "\u001B[0;31mKeyboardInterrupt\u001B[0m: "
     ]
    }
   ],
   "source": [
    "step = 0\n",
    "plt_loss = []\n",
    "prstat = PruningTool()\n",
    "first_training = True\n",
    "pruning_amount = np.linspace(0, 0.99, 5)\n",
    "final_pa = pruning_amount[-1]\n",
    "\n",
    "for pa in pruning_amount:\n",
    "    # local pruning\n",
    "    for name,module in vae.named_modules():\n",
    "        if isinstance(module, torch.nn.Linear):\n",
    "            pr = PruningLinear(module)\n",
    "            pr.set_mask_locally(pa)\n",
    "            module.register_forward_pre_hook(pr)\n",
    "        if isinstance(module, torch.nn.Conv2d):\n",
    "            pr = PruningConv2D(module)\n",
    "            pr.set_mask_locally(pa)\n",
    "            module.register_forward_pre_hook(pr)\n",
    "\n",
    "    for name, param in vae.named_parameters():\n",
    "        param.data = rewind_state_dict[name].clone()\n",
    "\n",
    "    epochs = 20 if pa == final_pa else 10\n",
    "    for epoch in range(epochs):\n",
    "\n",
    "        vae.train()\n",
    "        train_loss = 0\n",
    "        for batch_idx, (data, _) in enumerate(mnist_trainset):\n",
    "            data = data.to(device)\n",
    "            optimizer.zero_grad()\n",
    "            recon_batch, mu, logvar = vae(data)\n",
    "            beta = 1\n",
    "            loss = vae_loss(recon_batch, data, mu, logvar,beta)\n",
    "            loss.backward()\n",
    "            train_loss += loss.item()\n",
    "            optimizer.step()\n",
    "            step += 1\n",
    "\n",
    "            if  first_training and batch_idx == 500 :\n",
    "                rewind_state_dict = copy.deepcopy(vae.state_dict())\n",
    "                first_training = False\n",
    "                print('rewind state saved')\n",
    "        if epoch ==0 :\n",
    "            prstat.stats_pruning(vae,verbose=False)\n",
    "        print('====> Epoch: {} Average loss: {:.4f}'.format(epoch, train_loss / len(mnist_trainset.dataset)))\n",
    "    _, _, _ = vae(data)\n"
   ],
   "metadata": {
    "collapsed": false,
    "pycharm": {
     "name": "#%%\n"
    }
   }
  }
 ],
 "metadata": {
  "kernelspec": {
   "name": "pycharm-8fa7283d",
   "language": "python",
   "display_name": "PyCharm (ML_modular_synth)"
  },
  "language_info": {
   "codemirror_mode": {
    "name": "ipython",
    "version": 2
   },
   "file_extension": ".py",
   "mimetype": "text/x-python",
   "name": "python",
   "nbconvert_exporter": "python",
   "pygments_lexer": "ipython2",
   "version": "2.7.6"
  }
 },
 "nbformat": 4,
 "nbformat_minor": 0
}