{
 "cells": [
  {
   "cell_type": "markdown",
   "metadata": {},
   "source": [
    "## Import Libraries"
   ]
  },
  {
   "cell_type": "code",
   "execution_count": 1,
   "metadata": {},
   "outputs": [],
   "source": [
    "import numpy as np\n",
    "import torch\n",
    "import torch.nn.functional as f\n",
    "import sounddevice as sd\n",
    "\n",
    "from synth.ddsp_components import HarmonicSynth"
   ]
  },
  {
   "cell_type": "markdown",
   "metadata": {},
   "source": [
    "## Init parameters for synthesis"
   ]
  },
  {
   "cell_type": "code",
   "execution_count": 2,
   "metadata": {},
   "outputs": [],
   "source": [
    "# Init parameters\n",
    "sr = 16000\n",
    "duration = 2\n",
    "n_harmonics = 5\n",
    "n_samples = int(duration * sr)\n",
    "\n",
    "# Create fundamental frequency envelope [n_batch, n_samples]\n",
    "f0 = torch.ones([1, n_samples]) * 440 + torch.linspace(440, 0, n_samples)\n",
    "\n",
    "# Create global amplitude envelope [n_batch, n_samples]\n",
    "amp = torch.linspace(1, 0, n_samples)\n",
    "amp = amp[np.newaxis, :]\n",
    "\n",
    "# Create harmonic distribution [n_batch, n_samples, n_harmonics]\n",
    "harm_distrib = torch.ones([1, n_samples, n_harmonics])\n",
    "harm_distrib = f.normalize(harm_distrib, p=1, dim=2) # normalize distribution"
   ]
  },
  {
   "cell_type": "markdown",
   "metadata": {},
   "source": [
    "## Synthesize sound from parameters"
   ]
  },
  {
   "cell_type": "code",
   "execution_count": 3,
   "metadata": {},
   "outputs": [],
   "source": [
    "# Synthesize sound from inputs\n",
    "harmonic_synth = HarmonicSynth(sr)\n",
    "audio = harmonic_synth.get_signal(f0, amp, harm_distrib)\n",
    "\n",
    "# Open the data stream\n",
    "stream = sd.OutputStream(samplerate=sr, channels=1, dtype='float32')\n",
    "\n",
    "# Start and write data on stream\n",
    "stream.start()\n",
    "stream.write(audio[0])\n",
    "\n",
    "# Stop and close stream\n",
    "stream.stop()\n",
    "stream.close()"
   ]
  }
 ],
 "metadata": {
  "kernelspec": {
   "display_name": "Python 3",
   "language": "python",
   "name": "python3"
  },
  "language_info": {
   "codemirror_mode": {
    "name": "ipython",
    "version": 3
   },
   "file_extension": ".py",
   "mimetype": "text/x-python",
   "name": "python",
   "nbconvert_exporter": "python",
   "pygments_lexer": "ipython3",
   "version": "3.8.5"
  }
 },
 "nbformat": 4,
 "nbformat_minor": 4
}
