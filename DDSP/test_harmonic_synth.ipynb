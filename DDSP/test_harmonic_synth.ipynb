{
 "cells": [
  {
   "cell_type": "markdown",
   "metadata": {},
   "source": [
    "## Import Libraries"
   ]
  },
  {
   "cell_type": "code",
   "execution_count": 1,
   "metadata": {},
   "outputs": [],
   "source": [
    "import numpy as np\n",
    "import torch\n",
    "import torch.nn.functional as f\n",
    "import sounddevice as sd\n",
    "\n",
    "from synth.ddsp_components import HarmonicSynth"
   ]
  },
  {
   "cell_type": "markdown",
   "metadata": {},
   "source": [
    "## Init parameters for synthesis"
   ]
  },
  {
   "cell_type": "code",
   "execution_count": 2,
   "metadata": {},
   "outputs": [],
   "source": [
    "# Init parameters\n",
    "sr = 16000\n",
    "duration = 2\n",
    "n_harmonics = 30\n",
    "n_samples = int(duration * sr)\n",
    "\n",
    "# Create fundamental frequency envelope [batch_size, n_samples]\n",
    "f0 = torch.ones([2, n_samples]) * 440 + torch.linspace(440, 0, n_samples)\n",
    "\n",
    "# Create global amplitude envelope [batch_size, n_samples]\n",
    "total_amp = torch.zeros(2, n_samples)\n",
    "total_amp[0] = torch.linspace(1, 0, n_samples)\n",
    "total_amp[1] = torch.linspace(1, 0, n_samples)\n",
    "\n",
    "# Create harmonic distribution [batch_size, n_samples, n_harmonics]\n",
    "harm_amps = torch.ones([2, n_samples, n_harmonics])\n",
    "harm_amps = f.normalize(harm_amps, p=1, dim=2) # normalize distribution"
   ]
  },
  {
   "cell_type": "markdown",
   "metadata": {},
   "source": [
    "## Synthesize sound from parameters"
   ]
  },
  {
   "cell_type": "code",
   "execution_count": 3,
   "metadata": {},
   "outputs": [],
   "source": [
    "# Synthesize sound from inputs\n",
    "harmonic_synth = HarmonicSynth(sr)\n",
    "audio = harmonic_synth.get_signal(f0, total_amp, harm_amps)\n",
    "audio /= np.abs(audio).max() # normalize audio\n",
    "\n",
    "# Open the data stream\n",
    "stream = sd.OutputStream(samplerate=sr, channels=1, dtype='float32')\n",
    "\n",
    "# Start and write data on stream\n",
    "stream.start()\n",
    "stream.write(audio[0])\n",
    "\n",
    "# Stop and close stream\n",
    "stream.stop()\n",
    "stream.close()"
   ]
  }
 ],
 "metadata": {
  "kernelspec": {
   "display_name": "Python 3",
   "language": "python",
   "name": "python3"
  },
  "language_info": {
   "codemirror_mode": {
    "name": "ipython",
    "version": 3
   },
   "file_extension": ".py",
   "mimetype": "text/x-python",
   "name": "python",
   "nbconvert_exporter": "python",
   "pygments_lexer": "ipython3",
   "version": "3.7.3"
  }
 },
 "nbformat": 4,
 "nbformat_minor": 4
}
