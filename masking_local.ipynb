{
 "cells": [
  {
   "cell_type": "markdown",
   "metadata": {},
   "source": [
    "#  Lottery Notebook\n",
    "\n",
    "### imports :"
   ]
  },
  {
   "cell_type": "code",
   "execution_count": 1,
   "metadata": {},
   "outputs": [
    {
     "name": "stdout",
     "output_type": "stream",
     "text": [
      "using cpu\n"
     ]
    },
    {
     "name": "stderr",
     "output_type": "stream",
     "text": [
      "/home/erik/.local/lib/python3.8/site-packages/torch/cuda/__init__.py:52: UserWarning: CUDA initialization: Found no NVIDIA driver on your system. Please check that you have an NVIDIA GPU and installed a driver from http://www.nvidia.com/Download/index.aspx (Triggered internally at  /pytorch/c10/cuda/CUDAFunctions.cpp:100.)\n",
      "  return torch._C._cuda_getDeviceCount() > 0\n"
     ]
    }
   ],
   "source": [
    "import torch\n",
    "import torch.utils.data\n",
    "from torch import nn, optim\n",
    "from torch.nn import functional as F\n",
    "from torchvision import datasets, transforms\n",
    "from torchvision.utils import save_image\n",
    "import numpy as np\n",
    "import torch.nn.utils.prune as prune\n",
    "import matplotlib.pyplot as plt\n",
    "from pruning import PruningTool\n",
    "import copy\n",
    "import time\n",
    "if torch.cuda.is_available():\n",
    "    device = torch.device(\"cuda:0\")\n",
    "else:\n",
    "    device = torch.device(\"cpu\")\n",
    "print('using', device)"
   ]
  },
  {
   "cell_type": "markdown",
   "metadata": {
    "pycharm": {
     "name": "#%% md\n"
    }
   },
   "source": [
    "## Model :"
   ]
  },
  {
   "cell_type": "code",
   "execution_count": 2,
   "metadata": {},
   "outputs": [
    {
     "name": "stdout",
     "output_type": "stream",
     "text": [
      "<bound method Module.parameters of VAE(\n",
      "  (fc1): Linear(in_features=784, out_features=400, bias=True)\n",
      "  (fc2): Linear(in_features=400, out_features=200, bias=True)\n",
      "  (fc3): Linear(in_features=200, out_features=100, bias=True)\n",
      "  (fc41): Linear(in_features=100, out_features=32, bias=True)\n",
      "  (fc42): Linear(in_features=100, out_features=32, bias=True)\n",
      "  (fc5): Linear(in_features=32, out_features=100, bias=True)\n",
      "  (fc6): Linear(in_features=100, out_features=200, bias=True)\n",
      "  (fc7): Linear(in_features=200, out_features=400, bias=True)\n",
      "  (fc8): Linear(in_features=400, out_features=784, bias=True)\n",
      ")>\n"
     ]
    }
   ],
   "source": [
    "class VAE(nn.Module):\n",
    "    def __init__(self):\n",
    "        super(VAE, self).__init__()\n",
    "\n",
    "        self.fc1 = nn.Linear(784, 400)\n",
    "        self.fc2 = nn.Linear(400, 200)\n",
    "        self.fc3 = nn.Linear(200,100)\n",
    "        self.fc41 = nn.Linear(100, 32)\n",
    "        self.fc42 = nn.Linear(100, 32)\n",
    "        self.fc5 = nn.Linear(32, 100)\n",
    "        self.fc6 = nn.Linear(100,200)\n",
    "        self.fc7 = nn.Linear(200,400)\n",
    "        self.fc8 = nn.Linear(400, 784)\n",
    "\n",
    "    def encode(self, x):\n",
    "        h1 = F.relu(self.fc3(self.fc2(self.fc1(x))))\n",
    "        return self.fc41(h1), self.fc42(h1)\n",
    "\n",
    "    def reparameterize(self, mu, logvar):\n",
    "        std = torch.exp(0.5*logvar)\n",
    "        eps = torch.randn_like(std)\n",
    "        return mu + eps*std\n",
    "\n",
    "    def decode(self, z):\n",
    "        h3 = F.relu(self.fc7(self.fc6(self.fc5(z))))\n",
    "        return torch.sigmoid(self.fc8(h3))\n",
    "\n",
    "    def forward(self, x):\n",
    "        mu, logvar = self.encode(x.view(-1, 784))\n",
    "        z = self.reparameterize(mu, logvar)\n",
    "        return self.decode(z), mu, logvar\n",
    "\n",
    "\n",
    "\n",
    "# Reconstruction + KL divergence losses summed over all elements and batch\n",
    "def loss_function(recon_x, x, mu, logvar, beta):\n",
    "    \"\"\" Compute the loss function between recon_x (output of the VAE) \n",
    "    and x (input of the VAE)\n",
    "    \"\"\"\n",
    "    BCE = F.binary_cross_entropy(recon_x, x.view(-1, 784), reduction='sum')\n",
    "    KLD = 0.5 * torch.sum(logvar.exp() + mu.pow(2) - 1 - logvar)\n",
    "    return BCE + beta*KLD\n",
    "\n",
    "epochs = 10\n",
    "batch_size = 64\n",
    "log_interval = 100\n",
    "\n",
    "mnist_trainset = torch.utils.data.DataLoader(\n",
    "    datasets.MNIST('../data', train=True, download=True,\n",
    "                   transform=transforms.ToTensor()),\n",
    "                   batch_size=batch_size, shuffle=True)\n",
    "\n",
    "mnist_testset = test_loader = torch.utils.data.DataLoader(\n",
    "    datasets.MNIST('../data', train=False, transform=transforms.ToTensor()),\n",
    "                  batch_size=batch_size, shuffle=True)\n",
    "\n",
    "model = VAE().to(device)\n",
    "print(model.parameters)\n",
    "optimizer = optim.Adam(model.parameters(), lr=7e-4)\n",
    "rewind_state_dict = copy.deepcopy(model.state_dict()) \n",
    "step = 0"
   ]
  },
  {
   "cell_type": "markdown",
   "metadata": {},
   "source": [
    "## Pruning"
   ]
  },
  {
   "cell_type": "code",
   "execution_count": 3,
   "outputs": [],
   "source": [
    "from pruning import PruningLinear, PruningConv2D\n",
    "\n"
   ],
   "metadata": {
    "collapsed": false,
    "pycharm": {
     "name": "#%%\n"
    }
   }
  },
  {
   "cell_type": "code",
   "execution_count": 4,
   "outputs": [
    {
     "name": "stdout",
     "output_type": "stream",
     "text": [
      "0.0 % of weights pruned\n",
      "Linear(in_features=784, out_features=400, bias=True)\n",
      "Sparsity in Layer fc1: 0.00%\n",
      "Linear(in_features=400, out_features=200, bias=True)\n",
      "Sparsity in Layer fc2: 0.00%\n",
      "Linear(in_features=200, out_features=100, bias=True)\n",
      "Sparsity in Layer fc3: 0.01%\n",
      "Linear(in_features=100, out_features=32, bias=True)\n",
      "Sparsity in Layer fc41: 0.03%\n",
      "Linear(in_features=100, out_features=32, bias=True)\n",
      "Sparsity in Layer fc42: 0.03%\n",
      "Linear(in_features=32, out_features=100, bias=True)\n",
      "Sparsity in Layer fc5: 0.03%\n",
      "Linear(in_features=100, out_features=200, bias=True)\n",
      "Sparsity in Layer fc6: 0.01%\n",
      "Linear(in_features=200, out_features=400, bias=True)\n",
      "Sparsity in Layer fc7: 0.00%\n",
      "Linear(in_features=400, out_features=784, bias=True)\n",
      "Sparsity in Layer fc8: 0.00%\n",
      "Global Sparsity : 0.00%\n",
      "rewind state saved\n",
      "====> Epoch: 0 Average loss: 165.2452\n",
      "====> Epoch: 1 Average loss: 126.2476\n",
      "====> Epoch: 2 Average loss: 118.5583\n",
      "average reconstruction error: 115.471585\n",
      "49.5 % of weights pruned\n",
      "Linear(in_features=784, out_features=400, bias=True)\n",
      "Sparsity in Layer fc1: 49.50%\n",
      "Linear(in_features=400, out_features=200, bias=True)\n",
      "Sparsity in Layer fc2: 49.50%\n",
      "Linear(in_features=200, out_features=100, bias=True)\n",
      "Sparsity in Layer fc3: 49.51%\n",
      "Linear(in_features=100, out_features=32, bias=True)\n",
      "Sparsity in Layer fc41: 49.53%\n",
      "Linear(in_features=100, out_features=32, bias=True)\n",
      "Sparsity in Layer fc42: 49.53%\n",
      "Linear(in_features=32, out_features=100, bias=True)\n",
      "Sparsity in Layer fc5: 49.53%\n",
      "Linear(in_features=100, out_features=200, bias=True)\n",
      "Sparsity in Layer fc6: 49.51%\n",
      "Linear(in_features=200, out_features=400, bias=True)\n",
      "Sparsity in Layer fc7: 49.50%\n",
      "Linear(in_features=400, out_features=784, bias=True)\n",
      "Sparsity in Layer fc8: 49.50%\n",
      "Global Sparsity : 49.50%\n",
      "====> Epoch: 0 Average loss: 127.8943\n",
      "====> Epoch: 1 Average loss: 115.4700\n",
      "====> Epoch: 2 Average loss: 113.0246\n",
      "average reconstruction error: 111.209443\n",
      "99.0 % of weights pruned\n",
      "Linear(in_features=784, out_features=400, bias=True)\n",
      "Sparsity in Layer fc1: 99.00%\n",
      "Linear(in_features=400, out_features=200, bias=True)\n",
      "Sparsity in Layer fc2: 99.00%\n",
      "Linear(in_features=200, out_features=100, bias=True)\n",
      "Sparsity in Layer fc3: 99.00%\n",
      "Linear(in_features=100, out_features=32, bias=True)\n",
      "Sparsity in Layer fc41: 99.03%\n",
      "Linear(in_features=100, out_features=32, bias=True)\n",
      "Sparsity in Layer fc42: 99.03%\n",
      "Linear(in_features=32, out_features=100, bias=True)\n",
      "Sparsity in Layer fc5: 99.03%\n",
      "Linear(in_features=100, out_features=200, bias=True)\n",
      "Sparsity in Layer fc6: 99.00%\n",
      "Linear(in_features=200, out_features=400, bias=True)\n",
      "Sparsity in Layer fc7: 99.00%\n",
      "Linear(in_features=400, out_features=784, bias=True)\n",
      "Sparsity in Layer fc8: 99.00%\n",
      "Global Sparsity : 99.00%\n",
      "====> Epoch: 0 Average loss: 311.4875\n",
      "====> Epoch: 1 Average loss: 244.3426\n",
      "====> Epoch: 2 Average loss: 229.3828\n",
      "average reconstruction error: 224.486093\n"
     ]
    }
   ],
   "source": [
    "\n",
    "\n",
    "from pruning import PruningLinear, PruningConv2D\n",
    "\n",
    "\n",
    "step = 0\n",
    "plt_loss = []\n",
    "prstat = PruningTool()\n",
    "first_training = True\n",
    "pruning_amount = np.linspace(0, 0.99,10)\n",
    "final_pa = pruning_amount[-1]\n",
    "\n",
    "number_epochs = 10\n",
    "\n",
    "list_epochs = list(range(number_epochs))\n",
    "list_global_sparsity = []\n",
    "lists_training_loss = []\n",
    "list_test_loss = []\n",
    "\n",
    "for pa in pruning_amount:\n",
    "    list_loss = []\n",
    "    # local pruning\n",
    "    print(round(pa*100,3),'% of weights pruned')\n",
    "    for name,module in model.named_modules():\n",
    "        if isinstance(module, torch.nn.Linear):\n",
    "            pr = PruningLinear(module)\n",
    "            pr.set_mask_locally(pa)\n",
    "            module.register_forward_pre_hook(pr)\n",
    "        if isinstance(module, torch.nn.Conv2d):\n",
    "            pr = PruningConv2D(module)\n",
    "            pr.set_mask_locally(pa)\n",
    "            module.register_forward_pre_hook(pr)\n",
    "\n",
    "    for name, param in model.named_parameters():\n",
    "        param.data = rewind_state_dict[name].clone()\n",
    "\n",
    "    for epoch in list_epochs:\n",
    "\n",
    "        model.train()\n",
    "        train_loss = 0\n",
    "        first_batch = True\n",
    "        for batch_idx, (data, _) in enumerate(mnist_trainset):\n",
    "            data = data.to(device)\n",
    "            optimizer.zero_grad()\n",
    "            recon_batch, mu, logvar = model(data)\n",
    "            if first_batch ==True and epoch == 0 :\n",
    "                # _ = model(data)\n",
    "                list_global_sparsity.append(prstat.stats_pruning(model,verbose=False))\n",
    "                first_batch = False\n",
    "\n",
    "            beta = 1\n",
    "            loss = loss_function(recon_batch, data, mu, logvar,beta)\n",
    "            loss.backward()\n",
    "            train_loss += loss.item()\n",
    "            optimizer.step()\n",
    "            step += 1\n",
    "\n",
    "            if  first_training and batch_idx == 500 :\n",
    "                rewind_state_dict = copy.deepcopy(model.state_dict())\n",
    "                first_training = False\n",
    "                print('rewind state saved')\n",
    "\n",
    "        train_loss = train_loss / len(mnist_trainset.dataset)\n",
    "        list_loss.append(train_loss)\n",
    "        print('====> Epoch: {} Average loss: {:.4f}'.format(epoch, train_loss))\n",
    "\n",
    "    model.eval()\n",
    "\n",
    "    test_loss_avg, num_batches = 0, 0\n",
    "    for image_batch, _ in mnist_testset:\n",
    "        with torch.no_grad():\n",
    "            image_batch = image_batch.to(device)\n",
    "        # vae reconstruction\n",
    "            image_batch_recon, latent_mu, latent_logvar = model(image_batch)\n",
    "        # reconstruction error\n",
    "            loss = loss_function(image_batch_recon, image_batch, latent_mu, latent_logvar,beta)\n",
    "            test_loss_avg += loss.item()\n",
    "            num_batches += 1\n",
    "\n",
    "    test_loss_avg /= len(mnist_testset.dataset)\n",
    "    print('average reconstruction error: %f' % (test_loss_avg))\n",
    "\n",
    "    list_test_loss.append(test_loss_avg)\n",
    "    _, _, _ = model(data)\n",
    "    lists_training_loss.append(list_loss)"
   ],
   "metadata": {
    "collapsed": false,
    "pycharm": {
     "name": "#%%\n"
    }
   }
  },
  {
   "cell_type": "code",
   "execution_count": 1,
   "outputs": [
    {
     "ename": "NameError",
     "evalue": "name 'list_global_sparsity' is not defined",
     "output_type": "error",
     "traceback": [
      "\u001B[0;31m---------------------------------------------------------------------------\u001B[0m",
      "\u001B[0;31mNameError\u001B[0m                                 Traceback (most recent call last)",
      "\u001B[0;32m<ipython-input-1-9672eb622487>\u001B[0m in \u001B[0;36m<module>\u001B[0;34m\u001B[0m\n\u001B[1;32m      7\u001B[0m \u001B[0mplt\u001B[0m\u001B[0;34m.\u001B[0m\u001B[0mrcParams\u001B[0m\u001B[0;34m.\u001B[0m\u001B[0mupdate\u001B[0m\u001B[0;34m(\u001B[0m\u001B[0mparameters\u001B[0m\u001B[0;34m)\u001B[0m\u001B[0;34m\u001B[0m\u001B[0;34m\u001B[0m\u001B[0m\n\u001B[1;32m      8\u001B[0m \u001B[0;34m\u001B[0m\u001B[0m\n\u001B[0;32m----> 9\u001B[0;31m \u001B[0mv\u001B[0m \u001B[0;34m=\u001B[0m \u001B[0mVisualizer\u001B[0m\u001B[0;34m(\u001B[0m\u001B[0mlist_global_sparsity\u001B[0m\u001B[0;34m,\u001B[0m \u001B[0mlist_epochs\u001B[0m\u001B[0;34m,\u001B[0m \u001B[0mlists_training_loss\u001B[0m\u001B[0;34m,\u001B[0m \u001B[0mlist_test_loss\u001B[0m\u001B[0;34m)\u001B[0m\u001B[0;34m\u001B[0m\u001B[0;34m\u001B[0m\u001B[0m\n\u001B[0m\u001B[1;32m     10\u001B[0m \u001B[0;34m\u001B[0m\u001B[0m\n\u001B[1;32m     11\u001B[0m \u001B[0ma\u001B[0m \u001B[0;34m=\u001B[0m \u001B[0mv\u001B[0m\u001B[0;34m.\u001B[0m\u001B[0mshow_training_loss_pruning\u001B[0m\u001B[0;34m(\u001B[0m\u001B[0;34m)\u001B[0m\u001B[0;34m\u001B[0m\u001B[0;34m\u001B[0m\u001B[0m\n",
      "\u001B[0;31mNameError\u001B[0m: name 'list_global_sparsity' is not defined"
     ]
    }
   ],
   "source": [
    "import matplotlib.pyplot as plt\n",
    "from Visualizer import Visualizer\n",
    "\n",
    "parameters = {'axes.labelsize': 25,\n",
    "              'legend.fontsize': 20,\n",
    "          'axes.titlesize': 35}\n",
    "plt.rcParams.update(parameters)\n",
    "\n",
    "v = Visualizer(list_global_sparsity, list_epochs, lists_training_loss, list_test_loss)\n",
    "\n",
    "a = v.show_training_loss_pruning()\n",
    "plt.show()\n",
    "b = v.show_test_loss()\n",
    "plt.show()\n"
   ],
   "metadata": {
    "collapsed": false,
    "pycharm": {
     "name": "#%%\n"
    }
   }
  }
 ],
 "metadata": {
  "kernelspec": {
   "name": "pycharm-8fa7283d",
   "language": "python",
   "display_name": "PyCharm (ML_modular_synth)"
  },
  "language_info": {
   "codemirror_mode": {
    "name": "ipython",
    "version": 3
   },
   "file_extension": ".py",
   "mimetype": "text/x-python",
   "name": "python",
   "nbconvert_exporter": "python",
   "pygments_lexer": "ipython3",
   "version": "3.8.3"
  }
 },
 "nbformat": 4,
 "nbformat_minor": 4
}